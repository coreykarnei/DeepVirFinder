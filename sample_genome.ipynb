{
 "cells": [
  {
   "cell_type": "markdown",
   "metadata": {},
   "source": [
    "# Genome Sampling"
   ]
  },
  {
   "cell_type": "code",
   "execution_count": 4,
   "metadata": {},
   "outputs": [],
   "source": [
    "# imports\n",
    "import os\n",
    "import numpy as np"
   ]
  },
  {
   "cell_type": "code",
   "execution_count": 18,
   "metadata": {},
   "outputs": [],
   "source": [
    "# function to sample all genomes in a directory\n",
    "def sample_genomes(genome_dir, N=1000, contig_lengths=[25, 50, 100, 150, 300, 500, 1000, 3000]):\n",
    "    for fasta_file in os.listdir(genome_dir):\n",
    "        if '.fasta' in fasta_file or '.fa' in fasta_file:\n",
    "            print('--------------------------------------------------------------')\n",
    "            print(f'File: {fasta_file}')\n",
    "\n",
    "            # load genome\n",
    "            with open(os.path.join(genome_dir, fasta_file), 'r') as f:\n",
    "                fasta = f.readlines()\n",
    "\n",
    "            genome = ''\n",
    "            for line in fasta:\n",
    "                if line[0] != '>':\n",
    "                    genome += line[:-1]\n",
    "                else:\n",
    "                    print('New sequence')\n",
    "            print(f'Genome length: {len(genome)}')\n",
    "\n",
    "            # sample genome at different contig lengths and save to files\n",
    "            G = len(genome)\n",
    "            name = fasta_file.split('.')[0]\n",
    "\n",
    "            for l in contig_lengths:\n",
    "                save_dir = os.path.join('data', 'contigs', name)\n",
    "                if not os.path.exists(save_dir):\n",
    "                    os.makedirs(save_dir)\n",
    "                f = open(os.path.join(save_dir, f'{name}_{l}.fasta'), 'w')\n",
    "\n",
    "                for i in range(N):\n",
    "                    N_present = True\n",
    "                    while N_present:\n",
    "                        start = np.random.randint(G - l)\n",
    "                        sample = genome[start:start+l]\n",
    "                        if not 'N' in sample:\n",
    "                            N_present = False\n",
    "                    f.write(f'>{name} sample {i}\\n')\n",
    "                    f.write(sample)\n",
    "                    f.write('\\n')\n",
    "                f.close()"
   ]
  },
  {
   "cell_type": "code",
   "execution_count": null,
   "metadata": {},
   "outputs": [],
   "source": [
    "genome_dir = os.path.join('data', 'prokaryote_genomes')\n",
    "sample_genomes(genome_dir)"
   ]
  }
 ],
 "metadata": {
  "interpreter": {
   "hash": "c6853c614a25095713f895ae9f0a529b56ebef0f453a1080909d6b7bb72314cf"
  },
  "kernelspec": {
   "display_name": "Python 3.6.13 ('dvf')",
   "language": "python",
   "name": "python3"
  },
  "language_info": {
   "codemirror_mode": {
    "name": "ipython",
    "version": 3
   },
   "file_extension": ".py",
   "mimetype": "text/x-python",
   "name": "python",
   "nbconvert_exporter": "python",
   "pygments_lexer": "ipython3",
   "version": "3.8.12"
  },
  "orig_nbformat": 4
 },
 "nbformat": 4,
 "nbformat_minor": 2
}
