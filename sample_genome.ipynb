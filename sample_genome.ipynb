{
 "cells": [
  {
   "cell_type": "markdown",
   "metadata": {},
   "source": [
    "# Genome Sampling"
   ]
  },
  {
   "cell_type": "code",
   "execution_count": 1,
   "metadata": {},
   "outputs": [],
   "source": [
    "# imports\n",
    "import os\n",
    "import numpy as np"
   ]
  },
  {
   "cell_type": "code",
   "execution_count": 2,
   "metadata": {},
   "outputs": [],
   "source": [
    "# declare genome fasta file to sample\n",
    "fasta_file = 'v_sars-cov-2.fasta'"
   ]
  },
  {
   "cell_type": "code",
   "execution_count": 3,
   "metadata": {},
   "outputs": [
    {
     "data": {
      "text/plain": [
       "29903"
      ]
     },
     "execution_count": 3,
     "metadata": {},
     "output_type": "execute_result"
    }
   ],
   "source": [
    "# load genome\n",
    "with open(os.path.join('data', 'genomes', fasta_file), 'r') as f:\n",
    "    fasta = f.readlines()\n",
    "\n",
    "genome = ''\n",
    "for line in fasta:\n",
    "    if line[0] != '>':\n",
    "        genome += line[:-1]\n",
    "len(genome)"
   ]
  },
  {
   "cell_type": "code",
   "execution_count": 4,
   "metadata": {},
   "outputs": [],
   "source": [
    "# sample genome at different contig lengths and save to files\n",
    "contig_lengths = [25, 50, 100, 150, 300, 500, 1000, 3000]\n",
    "N = 10000\n",
    "G = len(genome)\n",
    "name = fasta_file.split('.')[0]\n",
    "\n",
    "for l in contig_lengths:\n",
    "    save_dir = os.path.join('data', 'contigs', name)\n",
    "    if not os.path.exists(save_dir):\n",
    "        os.makedirs(save_dir)\n",
    "    f = open(os.path.join(save_dir, f'{name}_{l}.fasta'), 'w')\n",
    "\n",
    "    for i in range(N):\n",
    "        f.write(f'>{name} sample {i}\\n')\n",
    "        start = np.random.randint(G - l)\n",
    "        f.write(genome[start:start+l])\n",
    "        f.write('\\n')\n",
    "    f.close()"
   ]
  }
 ],
 "metadata": {
  "interpreter": {
   "hash": "c6853c614a25095713f895ae9f0a529b56ebef0f453a1080909d6b7bb72314cf"
  },
  "kernelspec": {
   "display_name": "Python 3.6.13 ('dvf')",
   "language": "python",
   "name": "python3"
  },
  "language_info": {
   "codemirror_mode": {
    "name": "ipython",
    "version": 3
   },
   "file_extension": ".py",
   "mimetype": "text/x-python",
   "name": "python",
   "nbconvert_exporter": "python",
   "pygments_lexer": "ipython3",
   "version": "3.8.12"
  },
  "orig_nbformat": 4
 },
 "nbformat": 4,
 "nbformat_minor": 2
}
