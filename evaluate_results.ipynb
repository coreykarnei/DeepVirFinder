{
 "cells": [
  {
   "cell_type": "code",
   "execution_count": 1,
   "metadata": {},
   "outputs": [],
   "source": [
    "# imports\n",
    "import os\n",
    "import numpy as np\n",
    "import pandas as pd\n",
    "from sklearn.metrics import accuracy_score, precision_score, recall_score, f1_score, roc_auc_score"
   ]
  },
  {
   "cell_type": "code",
   "execution_count": 20,
   "metadata": {},
   "outputs": [
    {
     "data": {
      "text/plain": [
       "0.4346967635788023"
      ]
     },
     "execution_count": 20,
     "metadata": {},
     "output_type": "execute_result"
    }
   ],
   "source": [
    "# test\n",
    "res = pd.read_csv('results/CRC_meta/CRC_meta.fa_gt1bp_dvfpred.txt', sep=\"\\t\")\n",
    "res[res['model_contig_len'] == 150]['score'].mean()"
   ]
  },
  {
   "cell_type": "code",
   "execution_count": null,
   "metadata": {},
   "outputs": [],
   "source": [
    "# parameters\n",
    "results_dir = 'results'\n",
    "genomes = ['h_human-3', 'v_sars-cov-2']\n",
    "contig_lengths = [25, 50, 100, 150, 300, 500, 1000, 3000]\n",
    "model_types = [150, 300, 500, 1000]"
   ]
  },
  {
   "cell_type": "code",
   "execution_count": null,
   "metadata": {},
   "outputs": [],
   "source": [
    "# compute average scores for each genome\n",
    "ave_scores = {}\n",
    "for g in genomes:\n",
    "    ave_scores[g] = np.zeros((len(contig_lengths), len(model_types)))\n",
    "    for i, l in enumerate(contig_lengths):\n",
    "        res = pd.read_csv(os.path.join(results_dir, g, f'{g}_{l}.fasta_gt1bp_dvfpred.txt'))\n",
    "        for j, m in enumerate(model_types):\n",
    "            if g.split('_')[0] == 'h':\n",
    "                ave_scores[i,j] = 1 - res[res['model_contig_len'] == m]['score'].mean()\n",
    "            elif g.split('_')[0] == 'v':\n",
    "                ave_scores[i,j] = res[res['model_contig_len'] == m]['score'].mean()\n",
    "            else:\n",
    "                raise ValueError(f'Unknown identifier: {g.split(\"_\")[0]} (should be h or v)')\n",
    "\n",
    "    print('----------------------------------------------------')        \n",
    "    print(g)\n",
    "    print(ave_scores[g])\n",
    "    print()"
   ]
  },
  {
   "cell_type": "code",
   "execution_count": null,
   "metadata": {},
   "outputs": [],
   "source": [
    "# compute classification metrics\n",
    "metrics = {}\n",
    "for l in contig_lengths:\n",
    "    y_pred = np.empty((0))\n",
    "    y_true = np.empty((0))\n",
    "    for g in genomes:\n",
    "        res = pd.read_csv(os.path.join(results_dir, g, f'{g}_{l}.fasta_gt1bp_dvfpred.txt'))\n",
    "        \n",
    "        for m in model_types:\n",
    "            m_res = res[res['model_contig_len'] == m]['score']\n",
    "            y_pred = np.append(y_pred, m_res)\n",
    "            if g.split('_')[0] == 'h':\n",
    "                y_true = np.append(y_true, np.zeros((len(m_res))))\n",
    "            elif g.split('_')[0] == 'v':\n",
    "                y_true = np.append(y_true, np.ones((len(m_res))))\n",
    "            else:\n",
    "                raise ValueError(f'Unknown identifier: {g.split(\"_\")[0]} (should be h or v)')\n",
    "\n",
    "    metrics[l]['Accuracy'] = accuracy_score(y_true, y_pred)\n",
    "    metrics[l]['Precision'] = precision_score(y_true, y_pred)\n",
    "    metrics[l]['Recall'] = recall_score(y_true, y_pred)\n",
    "    metrics[l]['F1'] = f1_score(y_true, y_pred)\n",
    "    metrics[l]['AUROC'] = roc_auc_score(y_true, y_pred)\n",
    "            \n",
    "print(metrics)"
   ]
  }
 ],
 "metadata": {
  "interpreter": {
   "hash": "f699675e08a9119bb2818deff95614cbad60c33cf2ded5a7f0d21aba33580169"
  },
  "kernelspec": {
   "display_name": "Python 3.8.12 ('genomic')",
   "language": "python",
   "name": "python3"
  },
  "language_info": {
   "codemirror_mode": {
    "name": "ipython",
    "version": 3
   },
   "file_extension": ".py",
   "mimetype": "text/x-python",
   "name": "python",
   "nbconvert_exporter": "python",
   "pygments_lexer": "ipython3",
   "version": "3.8.12"
  },
  "orig_nbformat": 4
 },
 "nbformat": 4,
 "nbformat_minor": 2
}
