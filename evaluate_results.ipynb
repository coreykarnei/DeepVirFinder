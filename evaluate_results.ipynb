{
 "cells": [
  {
   "cell_type": "code",
   "execution_count": 8,
   "metadata": {},
   "outputs": [],
   "source": [
    "# imports\n",
    "import os\n",
    "import numpy as np\n",
    "import pandas as pd\n",
    "from sklearn.metrics import accuracy_score, precision_score, recall_score, f1_score, roc_auc_score"
   ]
  },
  {
   "cell_type": "code",
   "execution_count": 2,
   "metadata": {},
   "outputs": [],
   "source": [
    "# parameters\n",
    "results_dir = 'results'\n",
    "genomes = ['h_human-3', 'v_sars-cov-2']\n",
    "# contig_lengths = [1000]\n",
    "contig_lengths = [25, 50, 100, 150, 300, 500, 1000, 3000]\n",
    "model_types = [150, 300, 500, 1000]"
   ]
  },
  {
   "cell_type": "code",
   "execution_count": 28,
   "metadata": {},
   "outputs": [
    {
     "data": {
      "text/plain": [
       "{'Input: 1000': {'Model: 150': {'Genome score: h_human-3': 0.5769636034965515,\n",
       "   'Genome score: v_sars-cov-2': 0.47995015382766726,\n",
       "   'Accuracy': 0.6,\n",
       "   'Precision': 1.0,\n",
       "   'Recall': 0.2,\n",
       "   'F1': 0.33333333333333337,\n",
       "   'AUROC': 1.0},\n",
       "  'Model: 300': {'Genome score: h_human-3': 0.4633482217788696,\n",
       "   'Genome score: v_sars-cov-2': 0.6666653752326965,\n",
       "   'Accuracy': 0.8,\n",
       "   'Precision': 0.7142857142857143,\n",
       "   'Recall': 1.0,\n",
       "   'F1': 0.8333333333333333,\n",
       "   'AUROC': 0.76},\n",
       "  'Model: 500': {'Genome score: h_human-3': 0.36159304976463313,\n",
       "   'Genome score: v_sars-cov-2': 0.9316253781318664,\n",
       "   'Accuracy': 0.7,\n",
       "   'Precision': 0.625,\n",
       "   'Recall': 1.0,\n",
       "   'F1': 0.7692307692307693,\n",
       "   'AUROC': 0.6799999999999999},\n",
       "  'Model: 1000': {'Genome score: h_human-3': 0.7743676940910519,\n",
       "   'Genome score: v_sars-cov-2': 0.8632304072380066,\n",
       "   'Accuracy': 0.8,\n",
       "   'Precision': 0.8,\n",
       "   'Recall': 0.8,\n",
       "   'F1': 0.8000000000000002,\n",
       "   'AUROC': 0.8}}}"
      ]
     },
     "execution_count": 28,
     "metadata": {},
     "output_type": "execute_result"
    }
   ],
   "source": [
    "# compute classification metrics\n",
    "metrics = {}\n",
    "for l in contig_lengths:\n",
    "    metrics[f'Input: {l}'] = {}\n",
    "    for m in model_types:\n",
    "        metrics[f'Input: {l}'][f'Model: {m}'] = {}\n",
    "        y_pred = np.empty((0))\n",
    "        y_true = np.empty((0))\n",
    "\n",
    "        for g in genomes:\n",
    "            res = pd.read_csv(os.path.join(results_dir, g, f'{g}_{l}.fasta_gt1bp_dvfpred.txt'), sep=\"\\t\")\n",
    "            m_res = res[res['model_contig_len'] == m]['score']\n",
    "            y_pred = np.append(y_pred, m_res)\n",
    "\n",
    "            if g.split('_')[0] == 'h':\n",
    "                metrics[f'Input: {l}'][f'Model: {m}'][f'Genome score: {g}'] = 1 - m_res.mean()\n",
    "                y_true = np.append(y_true, np.zeros((len(m_res))))\n",
    "            elif g.split('_')[0] == 'v':\n",
    "                metrics[f'Input: {l}'][f'Model: {m}'][f'Genome score: {g}'] = m_res.mean()\n",
    "                y_true = np.append(y_true, np.ones((len(m_res))))\n",
    "            else:\n",
    "                raise ValueError(f'Unknown identifier: {g.split(\"_\")[0]} (should be h or v)')\n",
    "\n",
    "        metrics[f'Input: {l}'][f'Model: {m}']['Accuracy'] = accuracy_score(y_true, y_pred > 0.5)\n",
    "        metrics[f'Input: {l}'][f'Model: {m}']['Precision'] = precision_score(y_true, y_pred > 0.5)\n",
    "        metrics[f'Input: {l}'][f'Model: {m}']['Recall'] = recall_score(y_true, y_pred > 0.5)\n",
    "        metrics[f'Input: {l}'][f'Model: {m}']['F1'] = f1_score(y_true, y_pred > 0.5)\n",
    "        metrics[f'Input: {l}'][f'Model: {m}']['AUROC'] = roc_auc_score(y_true, y_pred)\n",
    "            \n",
    "metrics"
   ]
  },
  {
   "cell_type": "code",
   "execution_count": 25,
   "metadata": {},
   "outputs": [
    {
     "name": "stdout",
     "output_type": "stream",
     "text": [
      "h_human-3\n",
      "[[0.5769636  0.46334822 0.36159305 0.77436769]]\n",
      "\n",
      "v_sars-cov-2\n",
      "[[0.47995015 0.66666538 0.93162538 0.86323041]]\n",
      "\n"
     ]
    }
   ],
   "source": [
    "# irrelevant given above cell but may be useful later\n",
    "ave_scores = {}\n",
    "for g in genomes:\n",
    "    ave_scores[g] = np.zeros((len(contig_lengths), len(model_types)))\n",
    "    for i, l in enumerate(contig_lengths):\n",
    "        res = pd.read_csv(os.path.join(results_dir, g, f'{g}_{l}.fasta_gt1bp_dvfpred.txt'), sep=\"\\t\")\n",
    "        for j, m in enumerate(model_types):\n",
    "            if g.split('_')[0] == 'h':\n",
    "                ave_scores[g][i,j] = 1 - res[res['model_contig_len'] == m]['score'].mean()\n",
    "            elif g.split('_')[0] == 'v':\n",
    "                ave_scores[g][i,j] = res[res['model_contig_len'] == m]['score'].mean()\n",
    "            else:\n",
    "                raise ValueError(f'Unknown identifier: {g.split(\"_\")[0]} (should be h or v)')\n",
    "       \n",
    "    print(g)\n",
    "    print(ave_scores[g])\n",
    "    print()"
   ]
  }
 ],
 "metadata": {
  "interpreter": {
   "hash": "f699675e08a9119bb2818deff95614cbad60c33cf2ded5a7f0d21aba33580169"
  },
  "kernelspec": {
   "display_name": "Python 3.8.12 ('genomic')",
   "language": "python",
   "name": "python3"
  },
  "language_info": {
   "codemirror_mode": {
    "name": "ipython",
    "version": 3
   },
   "file_extension": ".py",
   "mimetype": "text/x-python",
   "name": "python",
   "nbconvert_exporter": "python",
   "pygments_lexer": "ipython3",
   "version": "3.8.12"
  },
  "orig_nbformat": 4
 },
 "nbformat": 4,
 "nbformat_minor": 2
}
